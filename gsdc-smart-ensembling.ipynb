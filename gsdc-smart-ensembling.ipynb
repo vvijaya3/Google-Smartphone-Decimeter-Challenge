{
 "cells": [
  {
   "cell_type": "markdown",
   "id": "e8806e61",
   "metadata": {
    "papermill": {
     "duration": 0.016201,
     "end_time": "2021-07-31T05:07:43.575014",
     "exception": false,
     "start_time": "2021-07-31T05:07:43.558813",
     "status": "completed"
    },
    "tags": []
   },
   "source": [
    "<div>\n",
    "    <h1 align=\"center\">Smart Ensembling</h1>\n",
    "    <h1 align=\"center\">Google Smartphone Decimeter Challenge</h1>   \n",
    "</div>"
   ]
  },
  {
   "cell_type": "markdown",
   "id": "9900e6c6",
   "metadata": {
    "papermill": {
     "duration": 0.014895,
     "end_time": "2021-07-31T05:07:43.605639",
     "exception": false,
     "start_time": "2021-07-31T05:07:43.590744",
     "status": "completed"
    },
    "tags": []
   },
   "source": [
    "<div class=\"alert alert-success\">  \n",
    "</div>"
   ]
  },
  {
   "cell_type": "markdown",
   "id": "98adb83c",
   "metadata": {
    "papermill": {
     "duration": 0.015501,
     "end_time": "2021-07-31T05:07:43.636710",
     "exception": false,
     "start_time": "2021-07-31T05:07:43.621209",
     "status": "completed"
    },
    "tags": []
   },
   "source": [
    "<div class=\"alert alert-success\">\n",
    "    <h1 align=\"center\">If you find this work useful, please don't forget upvoting :)</h1>\n",
    "</div>"
   ]
  },
  {
   "cell_type": "code",
   "execution_count": 1,
   "id": "018af171",
   "metadata": {
    "execution": {
     "iopub.execute_input": "2021-07-31T05:07:43.672225Z",
     "iopub.status.busy": "2021-07-31T05:07:43.671095Z",
     "iopub.status.idle": "2021-07-31T05:07:46.772665Z",
     "shell.execute_reply": "2021-07-31T05:07:46.772183Z",
     "shell.execute_reply.started": "2021-07-29T05:07:19.113741Z"
    },
    "papermill": {
     "duration": 3.120423,
     "end_time": "2021-07-31T05:07:46.772793",
     "exception": false,
     "start_time": "2021-07-31T05:07:43.652370",
     "status": "completed"
    },
    "tags": []
   },
   "outputs": [],
   "source": [
    "import numpy as np \n",
    "import pandas as pd\n",
    "import seaborn as sns\n",
    "\n",
    "import matplotlib.pyplot as plt\n",
    "import plotly.figure_factory as ff\n",
    "import plotly.express as px\n",
    "%matplotlib inline"
   ]
  },
  {
   "cell_type": "markdown",
   "id": "ef865d3d",
   "metadata": {
    "papermill": {
     "duration": 0.009874,
     "end_time": "2021-07-31T05:07:46.793063",
     "exception": false,
     "start_time": "2021-07-31T05:07:46.783189",
     "status": "completed"
    },
    "tags": []
   },
   "source": [
    "<div class=\"alert alert-success\">  \n",
    "</div>"
   ]
  },
  {
   "cell_type": "markdown",
   "id": "68667673",
   "metadata": {
    "papermill": {
     "duration": 0.009648,
     "end_time": "2021-07-31T05:07:46.812626",
     "exception": false,
     "start_time": "2021-07-31T05:07:46.802978",
     "status": "completed"
    },
    "tags": []
   },
   "source": [
    "Thanks to: @tensorchoko https://www.kaggle.com/tensorchoko/google-multioutputregressor/output"
   ]
  },
  {
   "cell_type": "code",
   "execution_count": 2,
   "id": "0a003185",
   "metadata": {
    "execution": {
     "iopub.execute_input": "2021-07-31T05:07:46.835614Z",
     "iopub.status.busy": "2021-07-31T05:07:46.835178Z",
     "iopub.status.idle": "2021-07-31T05:07:46.987710Z",
     "shell.execute_reply": "2021-07-31T05:07:46.987306Z",
     "shell.execute_reply.started": "2021-07-29T05:07:19.126219Z"
    },
    "papermill": {
     "duration": 0.16514,
     "end_time": "2021-07-31T05:07:46.987831",
     "exception": false,
     "start_time": "2021-07-31T05:07:46.822691",
     "status": "completed"
    },
    "tags": []
   },
   "outputs": [],
   "source": [
    "path0 = '../input/gsdc6027/submission.csv' \n",
    "\n",
    "sub6027 = pd.read_csv(path0)"
   ]
  },
  {
   "cell_type": "markdown",
   "id": "2e9a480e",
   "metadata": {
    "papermill": {
     "duration": 0.010293,
     "end_time": "2021-07-31T05:07:47.009288",
     "exception": false,
     "start_time": "2021-07-31T05:07:46.998995",
     "status": "completed"
    },
    "tags": []
   },
   "source": [
    "Thanks to: @t88take https://www.kaggle.com/t88take/gsdc-phones-mean-prediction/output"
   ]
  },
  {
   "cell_type": "code",
   "execution_count": 3,
   "id": "3cc85c11",
   "metadata": {
    "execution": {
     "iopub.execute_input": "2021-07-31T05:07:47.033566Z",
     "iopub.status.busy": "2021-07-31T05:07:47.033126Z",
     "iopub.status.idle": "2021-07-31T05:07:47.191477Z",
     "shell.execute_reply": "2021-07-31T05:07:47.191023Z",
     "shell.execute_reply.started": "2021-07-29T05:07:19.308967Z"
    },
    "papermill": {
     "duration": 0.171887,
     "end_time": "2021-07-31T05:07:47.191587",
     "exception": false,
     "start_time": "2021-07-31T05:07:47.019700",
     "status": "completed"
    },
    "tags": []
   },
   "outputs": [],
   "source": [
    "path1 = '../input/gsdc5639/submission.csv' \n",
    "\n",
    "sub5639 = pd.read_csv(path1)"
   ]
  },
  {
   "cell_type": "markdown",
   "id": "722a9d1a",
   "metadata": {
    "papermill": {
     "duration": 0.010062,
     "end_time": "2021-07-31T05:07:47.212212",
     "exception": false,
     "start_time": "2021-07-31T05:07:47.202150",
     "status": "completed"
    },
    "tags": []
   },
   "source": [
    "Thanks to: @bpetrb https://www.kaggle.com/bpetrb/adaptive-gauss-phone-mean/output"
   ]
  },
  {
   "cell_type": "code",
   "execution_count": 4,
   "id": "9718a629",
   "metadata": {
    "execution": {
     "iopub.execute_input": "2021-07-31T05:07:47.236925Z",
     "iopub.status.busy": "2021-07-31T05:07:47.236479Z",
     "iopub.status.idle": "2021-07-31T05:07:47.435283Z",
     "shell.execute_reply": "2021-07-31T05:07:47.434878Z",
     "shell.execute_reply.started": "2021-07-29T05:07:19.484307Z"
    },
    "papermill": {
     "duration": 0.212901,
     "end_time": "2021-07-31T05:07:47.435391",
     "exception": false,
     "start_time": "2021-07-31T05:07:47.222490",
     "status": "completed"
    },
    "tags": []
   },
   "outputs": [],
   "source": [
    "path2 = '../input/gsdc5370/submission.csv' \n",
    "\n",
    "sub5370 = pd.read_csv(path2)"
   ]
  },
  {
   "cell_type": "code",
   "execution_count": 5,
   "id": "49a1b308",
   "metadata": {
    "execution": {
     "iopub.execute_input": "2021-07-31T05:07:47.460938Z",
     "iopub.status.busy": "2021-07-31T05:07:47.460486Z",
     "iopub.status.idle": "2021-07-31T05:07:47.463293Z",
     "shell.execute_reply": "2021-07-31T05:07:47.462823Z",
     "shell.execute_reply.started": "2021-07-29T05:07:19.649048Z"
    },
    "papermill": {
     "duration": 0.017256,
     "end_time": "2021-07-31T05:07:47.463393",
     "exception": false,
     "start_time": "2021-07-31T05:07:47.446137",
     "status": "completed"
    },
    "tags": []
   },
   "outputs": [],
   "source": [
    "path = [path0, path1, path2]"
   ]
  },
  {
   "cell_type": "markdown",
   "id": "b1dc1fc2",
   "metadata": {
    "papermill": {
     "duration": 0.010067,
     "end_time": "2021-07-31T05:07:47.484515",
     "exception": false,
     "start_time": "2021-07-31T05:07:47.474448",
     "status": "completed"
    },
    "tags": []
   },
   "source": [
    "<div class=\"alert alert-success\">  \n",
    "</div>"
   ]
  },
  {
   "cell_type": "code",
   "execution_count": 6,
   "id": "cc28908e",
   "metadata": {
    "execution": {
     "iopub.execute_input": "2021-07-31T05:07:47.514395Z",
     "iopub.status.busy": "2021-07-31T05:07:47.513853Z",
     "iopub.status.idle": "2021-07-31T05:07:47.516195Z",
     "shell.execute_reply": "2021-07-31T05:07:47.515804Z",
     "shell.execute_reply.started": "2021-07-29T05:07:19.654285Z"
    },
    "papermill": {
     "duration": 0.021551,
     "end_time": "2021-07-31T05:07:47.516308",
     "exception": false,
     "start_time": "2021-07-31T05:07:47.494757",
     "status": "completed"
    },
    "tags": []
   },
   "outputs": [],
   "source": [
    "def ensembling(main, support, coeff1, coeff2): \n",
    "    \n",
    "    suba  = main.copy() \n",
    "    subav = suba.values\n",
    "       \n",
    "    subb  = support.copy()\n",
    "    subbv = subb.values    \n",
    "           \n",
    "    ense  = main.copy()    \n",
    "    ensev = ense.values  \n",
    " \n",
    "    for i in range (len(main)):\n",
    "        \n",
    "        pera1 = subav[i, 2]\n",
    "        pera2 = subav[i, 3]\n",
    "        \n",
    "        perb1 = subbv[i, 2]\n",
    "        perb2 = subbv[i, 3]\n",
    "\n",
    "        per1 = (pera1 * coeff1) + (perb1 * (1.0 - coeff1))\n",
    "        per2 = (pera2 * coeff2) + (perb2 * (1.0 - coeff2))\n",
    "        \n",
    "        ensev[i, 2] = per1\n",
    "        ensev[i, 3] = per2\n",
    "        \n",
    "    ense.iloc[:, 2:] = ensev[:, 2:]  \n",
    "  \n",
    "    return ense      \n"
   ]
  },
  {
   "cell_type": "markdown",
   "id": "f0114943",
   "metadata": {
    "papermill": {
     "duration": 0.011187,
     "end_time": "2021-07-31T05:07:47.539425",
     "exception": false,
     "start_time": "2021-07-31T05:07:47.528238",
     "status": "completed"
    },
    "tags": []
   },
   "source": [
    "<div class=\"alert alert-success\">  \n",
    "</div>"
   ]
  },
  {
   "cell_type": "code",
   "execution_count": 7,
   "id": "171379b3",
   "metadata": {
    "execution": {
     "iopub.execute_input": "2021-07-31T05:07:47.565173Z",
     "iopub.status.busy": "2021-07-31T05:07:47.564554Z",
     "iopub.status.idle": "2021-07-31T05:07:47.850274Z",
     "shell.execute_reply": "2021-07-31T05:07:47.849822Z",
     "shell.execute_reply.started": "2021-07-29T05:07:19.671501Z"
    },
    "papermill": {
     "duration": 0.300315,
     "end_time": "2021-07-31T05:07:47.850386",
     "exception": false,
     "start_time": "2021-07-31T05:07:47.550071",
     "status": "completed"
    },
    "tags": []
   },
   "outputs": [],
   "source": [
    "sub1 = ensembling(sub5639, sub6027, 0.25, 0.60)\n",
    "\n",
    "sub2 = ensembling(sub5370,    sub1, 0.50, 0.60)"
   ]
  },
  {
   "cell_type": "markdown",
   "id": "7749c852",
   "metadata": {
    "papermill": {
     "duration": 0.010552,
     "end_time": "2021-07-31T05:07:47.871686",
     "exception": false,
     "start_time": "2021-07-31T05:07:47.861134",
     "status": "completed"
    },
    "tags": []
   },
   "source": [
    "<div class=\"alert alert-success\">  \n",
    "</div>"
   ]
  },
  {
   "cell_type": "code",
   "execution_count": 8,
   "id": "b0829d73",
   "metadata": {
    "execution": {
     "iopub.execute_input": "2021-07-31T05:07:47.895351Z",
     "iopub.status.busy": "2021-07-31T05:07:47.894679Z",
     "iopub.status.idle": "2021-07-31T05:07:48.855344Z",
     "shell.execute_reply": "2021-07-31T05:07:48.854837Z",
     "shell.execute_reply.started": "2021-07-29T05:07:20.209735Z"
    },
    "papermill": {
     "duration": 0.973192,
     "end_time": "2021-07-31T05:07:48.855464",
     "exception": false,
     "start_time": "2021-07-31T05:07:47.882272",
     "status": "completed"
    },
    "tags": []
   },
   "outputs": [
    {
     "name": "stdout",
     "output_type": "stream",
     "text": [
      "__notebook__.ipynb  submission1.csv  submission2.csv\r\n"
     ]
    }
   ],
   "source": [
    "sub1.to_csv(\"submission1.csv\",index=False)\n",
    "sub2.to_csv(\"submission2.csv\",index=False)\n",
    "!ls"
   ]
  },
  {
   "cell_type": "markdown",
   "id": "d68d7a30",
   "metadata": {
    "papermill": {
     "duration": 0.010781,
     "end_time": "2021-07-31T05:07:48.877624",
     "exception": false,
     "start_time": "2021-07-31T05:07:48.866843",
     "status": "completed"
    },
    "tags": []
   },
   "source": [
    "<div class=\"alert alert-success\">  \n",
    "</div>"
   ]
  },
  {
   "cell_type": "markdown",
   "id": "d39b2376",
   "metadata": {
    "papermill": {
     "duration": 0.010828,
     "end_time": "2021-07-31T05:07:48.899497",
     "exception": false,
     "start_time": "2021-07-31T05:07:48.888669",
     "status": "completed"
    },
    "tags": []
   },
   "source": [
    "<div class=\"alert alert-success\">  \n",
    "</div>"
   ]
  }
 ],
 "metadata": {
  "kernelspec": {
   "display_name": "Python 3",
   "language": "python",
   "name": "python3"
  },
  "language_info": {
   "codemirror_mode": {
    "name": "ipython",
    "version": 3
   },
   "file_extension": ".py",
   "mimetype": "text/x-python",
   "name": "python",
   "nbconvert_exporter": "python",
   "pygments_lexer": "ipython3",
   "version": "3.7.10"
  },
  "papermill": {
   "default_parameters": {},
   "duration": 13.69414,
   "end_time": "2021-07-31T05:07:50.762989",
   "environment_variables": {},
   "exception": null,
   "input_path": "__notebook__.ipynb",
   "output_path": "__notebook__.ipynb",
   "parameters": {},
   "start_time": "2021-07-31T05:07:37.068849",
   "version": "2.3.3"
  }
 },
 "nbformat": 4,
 "nbformat_minor": 5
}
